{
 "cells": [
  {
   "cell_type": "code",
   "execution_count": 1,
   "id": "ee4003a8-d71e-4666-acce-0a48eda8fc82",
   "metadata": {},
   "outputs": [
    {
     "name": "stderr",
     "output_type": "stream",
     "text": [
      "/home/ubuntu/.local/lib/python3.8/site-packages/pandas/core/computation/expressions.py:20: UserWarning: Pandas requires version '2.7.3' or newer of 'numexpr' (version '2.7.1' currently installed).\n",
      "  from pandas.core.computation.check import NUMEXPR_INSTALLED\n"
     ]
    }
   ],
   "source": [
    "import torch\n",
    "import diffusers\n",
    "import transformers\n",
    "from PIL import Image"
   ]
  },
  {
   "cell_type": "code",
   "execution_count": 2,
   "id": "8abe9ee5-3c60-4c53-8116-0ed419667c8f",
   "metadata": {},
   "outputs": [],
   "source": [
    "from run import MegaEdit\n",
    "modelid = \"runwayml/stable-diffusion-v1-5\"\n",
    "editpipeline = MegaEdit(modelid, device=\"cuda\", dtype=torch.float16, attn_slices=\"0\")"
   ]
  },
  {
   "cell_type": "code",
   "execution_count": null,
   "id": "646e8049",
   "metadata": {},
   "outputs": [],
   "source": [
    "image_path = \"path/to/image\"\n",
    "inversion_prompt = \"a blah blah blah\"\n",
    "init_image = Image.open(image_path)\n",
    "editpipeline.invert_image(init_image, \n",
    "                          inversion_prompt, # basic description of the image, your edit prompt should be a modification of this\n",
    "                          steps=50, # steps and image size is decided here because edit must be same size as inversion\n",
    "                          width=512, height=512)"
   ]
  },
  {
   "cell_type": "code",
   "execution_count": null,
   "id": "2ca3affa",
   "metadata": {},
   "outputs": [],
   "source": [
    "\n",
    "prompt = \"a blah blah blah 8k resolution\"\n",
    "\n",
    "imgs = editpipeline.run_edit(prompt, # str\n",
    "                 local_edit_word=None, #str # word describing region of image. i.e. an image of a man in a house. \n",
    "                 #if you put \"man\" only the man will be edited, the same word must appear in the inversion prompt as well to work\n",
    "                 invert_local_edit=False, # if True will edit all areas except region\n",
    "                 neg_prompt=\"bad quality, low resolution, jpg artifacts\",\n",
    "                 cross_replace_steps=0.5,  # 0.0 - 0.5 is good\n",
    "                 self_replace_steps=0.65,  # 0.25-0.65\n",
    "                 conv_replace_steps=0.55,)  # 0.25-0.6, typically like this one lower than self replace)"
   ]
  },
  {
   "cell_type": "code",
   "execution_count": null,
   "id": "3adf8be4",
   "metadata": {},
   "outputs": [],
   "source": []
  }
 ],
 "metadata": {
  "kernelspec": {
   "display_name": "Python 3",
   "language": "python",
   "name": "python3"
  },
  "language_info": {
   "codemirror_mode": {
    "name": "ipython",
    "version": 3
   },
   "file_extension": ".py",
   "mimetype": "text/x-python",
   "name": "python",
   "nbconvert_exporter": "python",
   "pygments_lexer": "ipython3",
   "version": "3.8.10"
  }
 },
 "nbformat": 4,
 "nbformat_minor": 5
}
